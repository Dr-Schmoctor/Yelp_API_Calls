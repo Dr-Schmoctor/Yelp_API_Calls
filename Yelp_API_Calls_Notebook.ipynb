{
 "cells": [
  {
   "cell_type": "markdown",
   "id": "0eb67b26-427b-4464-b863-0b3ba34ca298",
   "metadata": {},
   "source": [
    "# Efficient Yelp API Calls\n",
    "\n",
    "By Jeffrey Prichard"
   ]
  },
  {
   "cell_type": "markdown",
   "id": "93965ce2-570b-43b8-bd41-450724d6a20e",
   "metadata": {},
   "source": [
    "## Setup"
   ]
  },
  {
   "cell_type": "code",
   "execution_count": 1,
   "id": "1aa4327d-02b4-4f6c-9f8d-11fd9e72fb7d",
   "metadata": {},
   "outputs": [],
   "source": [
    "#Imports/Settings\n",
    "import numpy as np\n",
    "import pandas as pd\n",
    "import matplotlib.pyplot as plt\n",
    "import seaborn as sns\n",
    "\n",
    "import os, json, math, time\n",
    "\n",
    "from yelpapi import YelpAPI\n",
    "\n",
    "from tqdm.notebook import tqdm_notebook"
   ]
  },
  {
   "cell_type": "code",
   "execution_count": 2,
   "id": "5ef3631b-2ba4-4282-a5e7-a4e80fe7e3ed",
   "metadata": {},
   "outputs": [
    {
     "name": "stdout",
     "output_type": "stream",
     "text": [
      "Requirement already satisfied: yelpapi in /Users/jeffrey/anaconda3/envs/dojo-env/lib/python3.10/site-packages (2.5.0)\n",
      "Requirement already satisfied: requests in /Users/jeffrey/anaconda3/envs/dojo-env/lib/python3.10/site-packages (from yelpapi) (2.29.0)\n",
      "Requirement already satisfied: charset-normalizer<4,>=2 in /Users/jeffrey/anaconda3/envs/dojo-env/lib/python3.10/site-packages (from requests->yelpapi) (2.0.4)\n",
      "Requirement already satisfied: idna<4,>=2.5 in /Users/jeffrey/anaconda3/envs/dojo-env/lib/python3.10/site-packages (from requests->yelpapi) (3.4)\n",
      "Requirement already satisfied: certifi>=2017.4.17 in /Users/jeffrey/anaconda3/envs/dojo-env/lib/python3.10/site-packages (from requests->yelpapi) (2023.5.7)\n",
      "Requirement already satisfied: urllib3<1.27,>=1.21.1 in /Users/jeffrey/anaconda3/envs/dojo-env/lib/python3.10/site-packages (from requests->yelpapi) (1.26.15)\n",
      "Requirement already satisfied: tqdm in /Users/jeffrey/anaconda3/envs/dojo-env/lib/python3.10/site-packages (4.65.0)\n"
     ]
    }
   ],
   "source": [
    "!pip install yelpapi\n",
    "!pip install tqdm"
   ]
  },
  {
   "cell_type": "code",
   "execution_count": 3,
   "id": "b325be1f-551a-49ae-b332-2f59a0f329c1",
   "metadata": {},
   "outputs": [],
   "source": [
    "#Load API Credentials from .secret\n",
    "with open('/Users/jeffrey/.secret/yelp_api.json', 'r') as f:\n",
    "    login = json.load(f)"
   ]
  },
  {
   "cell_type": "code",
   "execution_count": 4,
   "id": "c7a3de76-2aac-4a4a-b4c4-efb53e98ae10",
   "metadata": {},
   "outputs": [
    {
     "data": {
      "text/plain": [
       "dict_keys(['client-id', 'api-key'])"
      ]
     },
     "execution_count": 4,
     "metadata": {},
     "output_type": "execute_result"
    }
   ],
   "source": [
    "login.keys()"
   ]
  },
  {
   "cell_type": "code",
   "execution_count": 5,
   "id": "9d73f96f-a817-48fe-841d-8a6d36029f56",
   "metadata": {},
   "outputs": [],
   "source": [
    "#Instantiate YelpAPI variable\n",
    "yelp = YelpAPI(login['api-key'], timeout_s=5.0)"
   ]
  },
  {
   "cell_type": "markdown",
   "id": "9175e9c2-7281-4d03-8a46-b4638868f7b4",
   "metadata": {},
   "source": [
    "# YELP API"
   ]
  },
  {
   "cell_type": "markdown",
   "id": "5c090c72-bae1-4ea5-af0d-a70ab1f656ce",
   "metadata": {},
   "source": [
    "## Search Terms / File Paths"
   ]
  },
  {
   "cell_type": "code",
   "execution_count": 6,
   "id": "11044e9e-b72d-470e-aa13-76e10d79c463",
   "metadata": {},
   "outputs": [],
   "source": [
    "#set API call para and filename\n",
    "location = 'South Portland, ME 04106'\n",
    "term = \"mexican\""
   ]
  },
  {
   "cell_type": "code",
   "execution_count": 7,
   "id": "0a0a3a6e-9cfb-4756-b706-8d916feea30f",
   "metadata": {},
   "outputs": [
    {
     "data": {
      "text/plain": [
       "'South Portland'"
      ]
     },
     "execution_count": 7,
     "metadata": {},
     "output_type": "execute_result"
    }
   ],
   "source": [
    "location.split(',')[0]"
   ]
  },
  {
   "cell_type": "code",
   "execution_count": 8,
   "id": "901fa979-ef31-44fe-88d4-ba79842afcb0",
   "metadata": {},
   "outputs": [],
   "source": [
    "#Specify folder for save data\n",
    "FOLDER = 'Data/'\n",
    "\n",
    "os.makedirs(FOLDER, exist_ok = True)\n",
    "#Specify JSON_FILE name\n",
    "JSON_FILE = FOLDER+f\"{location.split(',')[0]}-{term}.json\""
   ]
  },
  {
   "cell_type": "code",
   "execution_count": 9,
   "id": "26fc39e3-6158-47e3-b282-86551a25e1e1",
   "metadata": {},
   "outputs": [
    {
     "data": {
      "text/plain": [
       "'Data/South Portland-mexican.json'"
      ]
     },
     "execution_count": 9,
     "metadata": {},
     "output_type": "execute_result"
    }
   ],
   "source": [
    "JSON_FILE"
   ]
  },
  {
   "cell_type": "markdown",
   "id": "9e2449a3-f378-44d9-8f5b-8e8d0cc645d1",
   "metadata": {},
   "source": [
    "### Checking for JSON File existance // creating file if not"
   ]
  },
  {
   "cell_type": "code",
   "execution_count": 10,
   "id": "beb784a3-b288-406f-aca0-4133f85eee34",
   "metadata": {},
   "outputs": [
    {
     "name": "stdout",
     "output_type": "stream",
     "text": [
      "[i] Data/South Portland-mexican.json already exists.\n"
     ]
    }
   ],
   "source": [
    "#Check for File Existance\n",
    "file_exists = os.path.isfile(JSON_FILE)\n",
    "\n",
    "#If it does not exist, Create Folder, notify and save empty list\n",
    "if file_exists == False:\n",
    "    folder = os.path.dirname(JSON_FILE)\n",
    "\n",
    "    if len(folder)>0:\n",
    "        os.makedirs(folder, exist_ok = True)\n",
    "\n",
    "    print(f'[i] {JSON_FILE} not found. Saving empty list to file.')\n",
    "\n",
    "    with open(JSON_FILE, 'w') as f:\n",
    "        json.dump([], f)\n",
    "\n",
    "#IF CREATED ALREADY, Notify that it exists\n",
    "else:\n",
    "    print(f\"[i] {JSON_FILE} already exists.\")"
   ]
  },
  {
   "cell_type": "markdown",
   "id": "3c4bbe22-46fb-4a34-9fa0-e6cade13ba3d",
   "metadata": {},
   "source": [
    "## Load JSON FILE // Account for previous lists"
   ]
  },
  {
   "cell_type": "code",
   "execution_count": 11,
   "id": "39f66c48-8668-445f-9a18-5a622f47cfea",
   "metadata": {},
   "outputs": [],
   "source": [
    "#Seach Yelp API for term/location\n",
    "results = yelp.search_query(term = term, location = location)"
   ]
  },
  {
   "cell_type": "markdown",
   "id": "34109f7e-adb7-4303-8726-e9123de5ce1a",
   "metadata": {},
   "source": [
    "### Result Details"
   ]
  },
  {
   "cell_type": "code",
   "execution_count": 12,
   "id": "85cf69af-0345-4603-aaf5-e551bfdc00cd",
   "metadata": {},
   "outputs": [
    {
     "data": {
      "text/plain": [
       "dict"
      ]
     },
     "execution_count": 12,
     "metadata": {},
     "output_type": "execute_result"
    }
   ],
   "source": [
    "type(results)"
   ]
  },
  {
   "cell_type": "code",
   "execution_count": 13,
   "id": "6df7469d-c21c-4c79-8989-b2565f8a9f77",
   "metadata": {},
   "outputs": [
    {
     "data": {
      "text/plain": [
       "3"
      ]
     },
     "execution_count": 13,
     "metadata": {},
     "output_type": "execute_result"
    }
   ],
   "source": [
    "len(results)"
   ]
  },
  {
   "cell_type": "code",
   "execution_count": 14,
   "id": "4eb3b3a5-438a-45ef-af47-764ea1a71907",
   "metadata": {},
   "outputs": [
    {
     "data": {
      "text/plain": [
       "dict_keys(['businesses', 'total', 'region'])"
      ]
     },
     "execution_count": 14,
     "metadata": {},
     "output_type": "execute_result"
    }
   ],
   "source": [
    "results.keys()"
   ]
  },
  {
   "cell_type": "code",
   "execution_count": 15,
   "id": "2b9f494d-dfeb-4081-b7fd-8a6e7d1f850a",
   "metadata": {},
   "outputs": [
    {
     "data": {
      "text/plain": [
       "119"
      ]
     },
     "execution_count": 15,
     "metadata": {},
     "output_type": "execute_result"
    }
   ],
   "source": [
    "results['total']"
   ]
  },
  {
   "cell_type": "code",
   "execution_count": 16,
   "id": "c1066e55-3dc5-4620-81ca-be7809fa8061",
   "metadata": {},
   "outputs": [
    {
     "data": {
      "text/plain": [
       "{'center': {'longitude': -70.29190063476562, 'latitude': 43.63503501043364}}"
      ]
     },
     "execution_count": 16,
     "metadata": {},
     "output_type": "execute_result"
    }
   ],
   "source": [
    "results['region']"
   ]
  },
  {
   "cell_type": "markdown",
   "id": "a75916dd-cbac-43fd-b68b-e6be10e1fef6",
   "metadata": {},
   "source": [
    "## Convert to DataFrame"
   ]
  },
  {
   "cell_type": "code",
   "execution_count": 17,
   "id": "39c7a722-9486-4c31-b041-a85beb9698d6",
   "metadata": {},
   "outputs": [
    {
     "data": {
      "text/html": [
       "<div>\n",
       "<style scoped>\n",
       "    .dataframe tbody tr th:only-of-type {\n",
       "        vertical-align: middle;\n",
       "    }\n",
       "\n",
       "    .dataframe tbody tr th {\n",
       "        vertical-align: top;\n",
       "    }\n",
       "\n",
       "    .dataframe thead th {\n",
       "        text-align: right;\n",
       "    }\n",
       "</style>\n",
       "<table border=\"1\" class=\"dataframe\">\n",
       "  <thead>\n",
       "    <tr style=\"text-align: right;\">\n",
       "      <th></th>\n",
       "      <th>id</th>\n",
       "      <th>alias</th>\n",
       "      <th>name</th>\n",
       "      <th>image_url</th>\n",
       "      <th>is_closed</th>\n",
       "      <th>url</th>\n",
       "      <th>review_count</th>\n",
       "      <th>categories</th>\n",
       "      <th>rating</th>\n",
       "      <th>coordinates</th>\n",
       "      <th>transactions</th>\n",
       "      <th>price</th>\n",
       "      <th>location</th>\n",
       "      <th>phone</th>\n",
       "      <th>display_phone</th>\n",
       "      <th>distance</th>\n",
       "    </tr>\n",
       "  </thead>\n",
       "  <tbody>\n",
       "    <tr>\n",
       "      <th>0</th>\n",
       "      <td>gMsKH-4DxBOKLHi_OlaBmA</td>\n",
       "      <td>guerrero-maya-mexican-restaurant-south-portland</td>\n",
       "      <td>Guerrero Maya Mexican Restaurant</td>\n",
       "      <td>https://s3-media2.fl.yelpcdn.com/bphoto/yuOS2u...</td>\n",
       "      <td>False</td>\n",
       "      <td>https://www.yelp.com/biz/guerrero-maya-mexican...</td>\n",
       "      <td>244</td>\n",
       "      <td>[{'alias': 'mexican', 'title': 'Mexican'}]</td>\n",
       "      <td>4.0</td>\n",
       "      <td>{'latitude': 43.6335100034012, 'longitude': -7...</td>\n",
       "      <td>[delivery, pickup]</td>\n",
       "      <td>$$</td>\n",
       "      <td>{'address1': '449 Westbrook St', 'address2': '...</td>\n",
       "      <td>+12077475965</td>\n",
       "      <td>(207) 747-5965</td>\n",
       "      <td>1759.965634</td>\n",
       "    </tr>\n",
       "    <tr>\n",
       "      <th>1</th>\n",
       "      <td>CCBjleg5-fmdfQSrMoVpjQ</td>\n",
       "      <td>el-rodeo-south-portland</td>\n",
       "      <td>El Rodeo</td>\n",
       "      <td>https://s3-media2.fl.yelpcdn.com/bphoto/9tsTIV...</td>\n",
       "      <td>False</td>\n",
       "      <td>https://www.yelp.com/biz/el-rodeo-south-portla...</td>\n",
       "      <td>252</td>\n",
       "      <td>[{'alias': 'mexican', 'title': 'Mexican'}, {'a...</td>\n",
       "      <td>4.0</td>\n",
       "      <td>{'latitude': 43.6355, 'longitude': -70.32043}</td>\n",
       "      <td>[pickup]</td>\n",
       "      <td>$$</td>\n",
       "      <td>{'address1': '147 Western Ave', 'address2': ''...</td>\n",
       "      <td>+12077738851</td>\n",
       "      <td>(207) 773-8851</td>\n",
       "      <td>2227.928614</td>\n",
       "    </tr>\n",
       "    <tr>\n",
       "      <th>2</th>\n",
       "      <td>_At24cTKAQj8AYJ26yNysw</td>\n",
       "      <td>taco-trio-south-portland</td>\n",
       "      <td>Taco Trio</td>\n",
       "      <td>https://s3-media2.fl.yelpcdn.com/bphoto/m1u2T1...</td>\n",
       "      <td>False</td>\n",
       "      <td>https://www.yelp.com/biz/taco-trio-south-portl...</td>\n",
       "      <td>326</td>\n",
       "      <td>[{'alias': 'mexican', 'title': 'Mexican'}]</td>\n",
       "      <td>4.5</td>\n",
       "      <td>{'latitude': 43.6399281, 'longitude': -70.2536...</td>\n",
       "      <td>[delivery, pickup]</td>\n",
       "      <td>$</td>\n",
       "      <td>{'address1': '60 Ocean St', 'address2': '', 'a...</td>\n",
       "      <td>+12077679055</td>\n",
       "      <td>(207) 767-9055</td>\n",
       "      <td>3123.708490</td>\n",
       "    </tr>\n",
       "    <tr>\n",
       "      <th>3</th>\n",
       "      <td>9fT5ZGTb8YQ0dAYlRuW_9g</td>\n",
       "      <td>casita-corazon-south-portland</td>\n",
       "      <td>Casita Corazon</td>\n",
       "      <td>https://s3-media3.fl.yelpcdn.com/bphoto/A26WIP...</td>\n",
       "      <td>False</td>\n",
       "      <td>https://www.yelp.com/biz/casita-corazon-south-...</td>\n",
       "      <td>20</td>\n",
       "      <td>[{'alias': 'mexican', 'title': 'Mexican'}]</td>\n",
       "      <td>5.0</td>\n",
       "      <td>{'latitude': 43.64756, 'longitude': -70.23171}</td>\n",
       "      <td>[]</td>\n",
       "      <td>NaN</td>\n",
       "      <td>{'address1': '158 Benjamin W Pickett St', 'add...</td>\n",
       "      <td></td>\n",
       "      <td></td>\n",
       "      <td>5009.909691</td>\n",
       "    </tr>\n",
       "    <tr>\n",
       "      <th>4</th>\n",
       "      <td>ZXAgknN0Vazfjb6mifcHdA</td>\n",
       "      <td>taco-escobarr-portland</td>\n",
       "      <td>Taco Escobarr</td>\n",
       "      <td>https://s3-media3.fl.yelpcdn.com/bphoto/lmU7mo...</td>\n",
       "      <td>False</td>\n",
       "      <td>https://www.yelp.com/biz/taco-escobarr-portlan...</td>\n",
       "      <td>676</td>\n",
       "      <td>[{'alias': 'tacos', 'title': 'Tacos'}]</td>\n",
       "      <td>4.0</td>\n",
       "      <td>{'latitude': 43.6553325, 'longitude': -70.2615...</td>\n",
       "      <td>[delivery]</td>\n",
       "      <td>$$</td>\n",
       "      <td>{'address1': '548 Congress St', 'address2': ''...</td>\n",
       "      <td>+12075419097</td>\n",
       "      <td>(207) 541-9097</td>\n",
       "      <td>3322.406214</td>\n",
       "    </tr>\n",
       "    <tr>\n",
       "      <th>5</th>\n",
       "      <td>sxEyHlFw3E6MqEQYMdEfnA</td>\n",
       "      <td>tacos-la-poblanita-south-portland-2</td>\n",
       "      <td>Tacos La Poblanita</td>\n",
       "      <td>https://s3-media2.fl.yelpcdn.com/bphoto/GHKLWD...</td>\n",
       "      <td>False</td>\n",
       "      <td>https://www.yelp.com/biz/tacos-la-poblanita-so...</td>\n",
       "      <td>12</td>\n",
       "      <td>[{'alias': 'foodtrucks', 'title': 'Food Trucks...</td>\n",
       "      <td>5.0</td>\n",
       "      <td>{'latitude': 43.63305470962841, 'longitude': -...</td>\n",
       "      <td>[]</td>\n",
       "      <td>NaN</td>\n",
       "      <td>{'address1': '364 Maine Mall Rd', 'address2': ...</td>\n",
       "      <td>+12076180198</td>\n",
       "      <td>(207) 618-0198</td>\n",
       "      <td>3385.784339</td>\n",
       "    </tr>\n",
       "    <tr>\n",
       "      <th>6</th>\n",
       "      <td>aqUXp1A-Dktc90qcyrLREg</td>\n",
       "      <td>rio-bravo-tacos-and-tequila-westbrook</td>\n",
       "      <td>Rio Bravo Tacos and Tequila</td>\n",
       "      <td>https://s3-media3.fl.yelpcdn.com/bphoto/xXrvZR...</td>\n",
       "      <td>False</td>\n",
       "      <td>https://www.yelp.com/biz/rio-bravo-tacos-and-t...</td>\n",
       "      <td>64</td>\n",
       "      <td>[{'alias': 'mexican', 'title': 'Mexican'}]</td>\n",
       "      <td>4.5</td>\n",
       "      <td>{'latitude': 43.67799685814813, 'longitude': -...</td>\n",
       "      <td>[delivery, pickup]</td>\n",
       "      <td>$$</td>\n",
       "      <td>{'address1': '11 Main St', 'address2': 'Ste 14...</td>\n",
       "      <td>+12078879494</td>\n",
       "      <td>(207) 887-9494</td>\n",
       "      <td>5657.270553</td>\n",
       "    </tr>\n",
       "    <tr>\n",
       "      <th>7</th>\n",
       "      <td>MZTXFUsZakZwj0NIT0naFg</td>\n",
       "      <td>jefe-juans-portland</td>\n",
       "      <td>Jefe Juan's</td>\n",
       "      <td>https://s3-media1.fl.yelpcdn.com/bphoto/wSBtAO...</td>\n",
       "      <td>False</td>\n",
       "      <td>https://www.yelp.com/biz/jefe-juans-portland?a...</td>\n",
       "      <td>29</td>\n",
       "      <td>[{'alias': 'mexican', 'title': 'Mexican'}]</td>\n",
       "      <td>4.5</td>\n",
       "      <td>{'latitude': 43.6559654371511, 'longitude': -7...</td>\n",
       "      <td>[]</td>\n",
       "      <td>NaN</td>\n",
       "      <td>{'address1': '29 Wharf St', 'address2': '', 'a...</td>\n",
       "      <td></td>\n",
       "      <td></td>\n",
       "      <td>3840.308035</td>\n",
       "    </tr>\n",
       "    <tr>\n",
       "      <th>8</th>\n",
       "      <td>U2JgcmSSnpi3XnDrhB_yaA</td>\n",
       "      <td>coco-bar-and-grill-biddeford</td>\n",
       "      <td>Coco Bar &amp; Grill</td>\n",
       "      <td>https://s3-media1.fl.yelpcdn.com/bphoto/beQcJ7...</td>\n",
       "      <td>False</td>\n",
       "      <td>https://www.yelp.com/biz/coco-bar-and-grill-bi...</td>\n",
       "      <td>36</td>\n",
       "      <td>[{'alias': 'tacos', 'title': 'Tacos'}]</td>\n",
       "      <td>5.0</td>\n",
       "      <td>{'latitude': 43.49302895625947, 'longitude': -...</td>\n",
       "      <td>[delivery]</td>\n",
       "      <td>NaN</td>\n",
       "      <td>{'address1': '11 Adams St', 'address2': '', 'a...</td>\n",
       "      <td>+12075714543</td>\n",
       "      <td>(207) 571-4543</td>\n",
       "      <td>20598.616693</td>\n",
       "    </tr>\n",
       "    <tr>\n",
       "      <th>9</th>\n",
       "      <td>P7wDmf3vR2G69ixWPod3MQ</td>\n",
       "      <td>bird-and-co-portland</td>\n",
       "      <td>Bird &amp; Co</td>\n",
       "      <td>https://s3-media2.fl.yelpcdn.com/bphoto/BoK9xS...</td>\n",
       "      <td>False</td>\n",
       "      <td>https://www.yelp.com/biz/bird-and-co-portland?...</td>\n",
       "      <td>184</td>\n",
       "      <td>[{'alias': 'tacos', 'title': 'Tacos'}]</td>\n",
       "      <td>4.5</td>\n",
       "      <td>{'latitude': 43.67037, 'longitude': -70.28425}</td>\n",
       "      <td>[delivery]</td>\n",
       "      <td>$$</td>\n",
       "      <td>{'address1': '539 Deering Ave', 'address2': No...</td>\n",
       "      <td>+12077474056</td>\n",
       "      <td>(207) 747-4056</td>\n",
       "      <td>3972.600633</td>\n",
       "    </tr>\n",
       "    <tr>\n",
       "      <th>10</th>\n",
       "      <td>uEJH1D-mycy4TCYDZYoIUQ</td>\n",
       "      <td>sal-de-la-tierra-portland</td>\n",
       "      <td>Sal De La Tierra</td>\n",
       "      <td>https://s3-media2.fl.yelpcdn.com/bphoto/4wg9xr...</td>\n",
       "      <td>False</td>\n",
       "      <td>https://www.yelp.com/biz/sal-de-la-tierra-port...</td>\n",
       "      <td>41</td>\n",
       "      <td>[{'alias': 'latin', 'title': 'Latin American'}...</td>\n",
       "      <td>4.5</td>\n",
       "      <td>{'latitude': 43.6545925, 'longitude': -70.2626...</td>\n",
       "      <td>[delivery]</td>\n",
       "      <td>NaN</td>\n",
       "      <td>{'address1': '581 Congress St', 'address2': No...</td>\n",
       "      <td>+12077611600</td>\n",
       "      <td>(207) 761-1600</td>\n",
       "      <td>3203.221372</td>\n",
       "    </tr>\n",
       "    <tr>\n",
       "      <th>11</th>\n",
       "      <td>KHtam6xmiRDiyilP-WiOug</td>\n",
       "      <td>lenora-portland</td>\n",
       "      <td>Lenora</td>\n",
       "      <td>https://s3-media1.fl.yelpcdn.com/bphoto/STCZ-L...</td>\n",
       "      <td>False</td>\n",
       "      <td>https://www.yelp.com/biz/lenora-portland?adjus...</td>\n",
       "      <td>39</td>\n",
       "      <td>[{'alias': 'mexican', 'title': 'Mexican'}, {'a...</td>\n",
       "      <td>4.0</td>\n",
       "      <td>{'latitude': 43.65576860774107, 'longitude': -...</td>\n",
       "      <td>[]</td>\n",
       "      <td>NaN</td>\n",
       "      <td>{'address1': '2 Portland Sq', 'address2': '', ...</td>\n",
       "      <td>+12075360423</td>\n",
       "      <td>(207) 536-0423</td>\n",
       "      <td>3713.673648</td>\n",
       "    </tr>\n",
       "    <tr>\n",
       "      <th>12</th>\n",
       "      <td>JP8f13BBJt3-dcub_MC4cg</td>\n",
       "      <td>restaurante-el-corazon-portland-6</td>\n",
       "      <td>Restaurante El Corazon</td>\n",
       "      <td>https://s3-media1.fl.yelpcdn.com/bphoto/PNqbtr...</td>\n",
       "      <td>False</td>\n",
       "      <td>https://www.yelp.com/biz/restaurante-el-corazo...</td>\n",
       "      <td>189</td>\n",
       "      <td>[{'alias': 'bars', 'title': 'Bars'}, {'alias':...</td>\n",
       "      <td>4.0</td>\n",
       "      <td>{'latitude': 43.652991, 'longitude': -70.267121}</td>\n",
       "      <td>[delivery]</td>\n",
       "      <td>$$</td>\n",
       "      <td>{'address1': '190 State St', 'address2': '', '...</td>\n",
       "      <td>+12075361354</td>\n",
       "      <td>(207) 536-1354</td>\n",
       "      <td>2804.480738</td>\n",
       "    </tr>\n",
       "    <tr>\n",
       "      <th>13</th>\n",
       "      <td>IoqtiLN38JCrmdEY12k_0Q</td>\n",
       "      <td>tostones-cafe-cape-elizabeth</td>\n",
       "      <td>Tostones Cafe</td>\n",
       "      <td>https://s3-media3.fl.yelpcdn.com/bphoto/Wayhvr...</td>\n",
       "      <td>False</td>\n",
       "      <td>https://www.yelp.com/biz/tostones-cafe-cape-el...</td>\n",
       "      <td>22</td>\n",
       "      <td>[{'alias': 'latin', 'title': 'Latin American'}]</td>\n",
       "      <td>4.5</td>\n",
       "      <td>{'latitude': 43.5938102202537, 'longitude': -7...</td>\n",
       "      <td>[]</td>\n",
       "      <td>NaN</td>\n",
       "      <td>{'address1': '327 Ocean House Rd', 'address2':...</td>\n",
       "      <td>+12077475168</td>\n",
       "      <td>(207) 747-5168</td>\n",
       "      <td>6919.994368</td>\n",
       "    </tr>\n",
       "    <tr>\n",
       "      <th>14</th>\n",
       "      <td>sQTDV3Py7BFYxfMMiz6VBw</td>\n",
       "      <td>quiero-cafe-portland-4</td>\n",
       "      <td>Quiero Cafe</td>\n",
       "      <td>https://s3-media3.fl.yelpcdn.com/bphoto/6v8GJd...</td>\n",
       "      <td>False</td>\n",
       "      <td>https://www.yelp.com/biz/quiero-cafe-portland-...</td>\n",
       "      <td>103</td>\n",
       "      <td>[{'alias': 'latin', 'title': 'Latin American'}...</td>\n",
       "      <td>4.5</td>\n",
       "      <td>{'latitude': 43.6541787486643, 'longitude': -7...</td>\n",
       "      <td>[delivery]</td>\n",
       "      <td>NaN</td>\n",
       "      <td>{'address1': '3 Deering Ave', 'address2': '', ...</td>\n",
       "      <td>+12075367033</td>\n",
       "      <td>(207) 536-7033</td>\n",
       "      <td>2650.450919</td>\n",
       "    </tr>\n",
       "    <tr>\n",
       "      <th>15</th>\n",
       "      <td>qqdRSXBK2TJU-LnPcO0wlA</td>\n",
       "      <td>el-rayo-taqueria-scarborough-2</td>\n",
       "      <td>El Rayo Taqueria</td>\n",
       "      <td>https://s3-media4.fl.yelpcdn.com/bphoto/MeeP1I...</td>\n",
       "      <td>False</td>\n",
       "      <td>https://www.yelp.com/biz/el-rayo-taqueria-scar...</td>\n",
       "      <td>228</td>\n",
       "      <td>[{'alias': 'mexican', 'title': 'Mexican'}]</td>\n",
       "      <td>3.5</td>\n",
       "      <td>{'latitude': 43.5905859535598, 'longitude': -7...</td>\n",
       "      <td>[delivery]</td>\n",
       "      <td>$$</td>\n",
       "      <td>{'address1': '245 US Route 1', 'address2': '',...</td>\n",
       "      <td>+12078838226</td>\n",
       "      <td>(207) 883-8226</td>\n",
       "      <td>6116.780913</td>\n",
       "    </tr>\n",
       "    <tr>\n",
       "      <th>16</th>\n",
       "      <td>BxixZgDS_RrQVsdQ1oKG1A</td>\n",
       "      <td>1800-mexican-restaurant-me-scarborough</td>\n",
       "      <td>1800 Mexican Restaurant Me</td>\n",
       "      <td>https://s3-media1.fl.yelpcdn.com/bphoto/W3Mvx3...</td>\n",
       "      <td>False</td>\n",
       "      <td>https://www.yelp.com/biz/1800-mexican-restaura...</td>\n",
       "      <td>6</td>\n",
       "      <td>[{'alias': 'mexican', 'title': 'Mexican'}]</td>\n",
       "      <td>3.5</td>\n",
       "      <td>{'latitude': 43.5953045, 'longitude': -70.3276...</td>\n",
       "      <td>[delivery, pickup]</td>\n",
       "      <td>NaN</td>\n",
       "      <td>{'address1': '183 US-1', 'address2': None, 'ad...</td>\n",
       "      <td>+12073030007</td>\n",
       "      <td>(207) 303-0007</td>\n",
       "      <td>5271.115360</td>\n",
       "    </tr>\n",
       "    <tr>\n",
       "      <th>17</th>\n",
       "      <td>TBNhMREmwKU2kCnvyTtnxA</td>\n",
       "      <td>tequileras-mexican-restaurant-scarborough</td>\n",
       "      <td>Tequileras Mexican Restaurant</td>\n",
       "      <td>https://s3-media4.fl.yelpcdn.com/bphoto/K0_u_-...</td>\n",
       "      <td>False</td>\n",
       "      <td>https://www.yelp.com/biz/tequileras-mexican-re...</td>\n",
       "      <td>21</td>\n",
       "      <td>[{'alias': 'mexican', 'title': 'Mexican'}, {'a...</td>\n",
       "      <td>3.5</td>\n",
       "      <td>{'latitude': 43.59604, 'longitude': -70.32716}</td>\n",
       "      <td>[delivery, pickup]</td>\n",
       "      <td>NaN</td>\n",
       "      <td>{'address1': '183 US-1', 'address2': '', 'addr...</td>\n",
       "      <td>+12072198905</td>\n",
       "      <td>(207) 219-8905</td>\n",
       "      <td>5271.115360</td>\n",
       "    </tr>\n",
       "    <tr>\n",
       "      <th>18</th>\n",
       "      <td>I1aETEsRcnnEftQvLwzzNA</td>\n",
       "      <td>terlingua-portland</td>\n",
       "      <td>Terlingua</td>\n",
       "      <td>https://s3-media3.fl.yelpcdn.com/bphoto/iYUKp8...</td>\n",
       "      <td>False</td>\n",
       "      <td>https://www.yelp.com/biz/terlingua-portland?ad...</td>\n",
       "      <td>345</td>\n",
       "      <td>[{'alias': 'bbq', 'title': 'Barbeque'}, {'alia...</td>\n",
       "      <td>4.5</td>\n",
       "      <td>{'latitude': 43.664676267002065, 'longitude': ...</td>\n",
       "      <td>[delivery]</td>\n",
       "      <td>$$</td>\n",
       "      <td>{'address1': '40 Washington Ave', 'address2': ...</td>\n",
       "      <td></td>\n",
       "      <td></td>\n",
       "      <td>4605.664451</td>\n",
       "    </tr>\n",
       "    <tr>\n",
       "      <th>19</th>\n",
       "      <td>yeARMygH7XsFGxoDNIZmeA</td>\n",
       "      <td>taqueria-207-old-orchard-beach</td>\n",
       "      <td>Taqueria 207</td>\n",
       "      <td>https://s3-media2.fl.yelpcdn.com/bphoto/E63S8K...</td>\n",
       "      <td>False</td>\n",
       "      <td>https://www.yelp.com/biz/taqueria-207-old-orch...</td>\n",
       "      <td>118</td>\n",
       "      <td>[{'alias': 'newmexican', 'title': 'New Mexican...</td>\n",
       "      <td>4.5</td>\n",
       "      <td>{'latitude': 43.5079510773822, 'longitude': -7...</td>\n",
       "      <td>[delivery]</td>\n",
       "      <td>NaN</td>\n",
       "      <td>{'address1': '2 Ocean Park Rd', 'address2': ''...</td>\n",
       "      <td>+12079378732</td>\n",
       "      <td>(207) 937-8732</td>\n",
       "      <td>17051.595062</td>\n",
       "    </tr>\n",
       "  </tbody>\n",
       "</table>\n",
       "</div>"
      ],
      "text/plain": [
       "                        id                                            alias  \\\n",
       "0   gMsKH-4DxBOKLHi_OlaBmA  guerrero-maya-mexican-restaurant-south-portland   \n",
       "1   CCBjleg5-fmdfQSrMoVpjQ                          el-rodeo-south-portland   \n",
       "2   _At24cTKAQj8AYJ26yNysw                         taco-trio-south-portland   \n",
       "3   9fT5ZGTb8YQ0dAYlRuW_9g                    casita-corazon-south-portland   \n",
       "4   ZXAgknN0Vazfjb6mifcHdA                           taco-escobarr-portland   \n",
       "5   sxEyHlFw3E6MqEQYMdEfnA              tacos-la-poblanita-south-portland-2   \n",
       "6   aqUXp1A-Dktc90qcyrLREg            rio-bravo-tacos-and-tequila-westbrook   \n",
       "7   MZTXFUsZakZwj0NIT0naFg                              jefe-juans-portland   \n",
       "8   U2JgcmSSnpi3XnDrhB_yaA                     coco-bar-and-grill-biddeford   \n",
       "9   P7wDmf3vR2G69ixWPod3MQ                             bird-and-co-portland   \n",
       "10  uEJH1D-mycy4TCYDZYoIUQ                        sal-de-la-tierra-portland   \n",
       "11  KHtam6xmiRDiyilP-WiOug                                  lenora-portland   \n",
       "12  JP8f13BBJt3-dcub_MC4cg                restaurante-el-corazon-portland-6   \n",
       "13  IoqtiLN38JCrmdEY12k_0Q                     tostones-cafe-cape-elizabeth   \n",
       "14  sQTDV3Py7BFYxfMMiz6VBw                           quiero-cafe-portland-4   \n",
       "15  qqdRSXBK2TJU-LnPcO0wlA                   el-rayo-taqueria-scarborough-2   \n",
       "16  BxixZgDS_RrQVsdQ1oKG1A           1800-mexican-restaurant-me-scarborough   \n",
       "17  TBNhMREmwKU2kCnvyTtnxA        tequileras-mexican-restaurant-scarborough   \n",
       "18  I1aETEsRcnnEftQvLwzzNA                               terlingua-portland   \n",
       "19  yeARMygH7XsFGxoDNIZmeA                   taqueria-207-old-orchard-beach   \n",
       "\n",
       "                                name  \\\n",
       "0   Guerrero Maya Mexican Restaurant   \n",
       "1                           El Rodeo   \n",
       "2                          Taco Trio   \n",
       "3                     Casita Corazon   \n",
       "4                      Taco Escobarr   \n",
       "5                 Tacos La Poblanita   \n",
       "6        Rio Bravo Tacos and Tequila   \n",
       "7                        Jefe Juan's   \n",
       "8                   Coco Bar & Grill   \n",
       "9                          Bird & Co   \n",
       "10                  Sal De La Tierra   \n",
       "11                            Lenora   \n",
       "12            Restaurante El Corazon   \n",
       "13                     Tostones Cafe   \n",
       "14                       Quiero Cafe   \n",
       "15                  El Rayo Taqueria   \n",
       "16        1800 Mexican Restaurant Me   \n",
       "17     Tequileras Mexican Restaurant   \n",
       "18                         Terlingua   \n",
       "19                      Taqueria 207   \n",
       "\n",
       "                                            image_url  is_closed  \\\n",
       "0   https://s3-media2.fl.yelpcdn.com/bphoto/yuOS2u...      False   \n",
       "1   https://s3-media2.fl.yelpcdn.com/bphoto/9tsTIV...      False   \n",
       "2   https://s3-media2.fl.yelpcdn.com/bphoto/m1u2T1...      False   \n",
       "3   https://s3-media3.fl.yelpcdn.com/bphoto/A26WIP...      False   \n",
       "4   https://s3-media3.fl.yelpcdn.com/bphoto/lmU7mo...      False   \n",
       "5   https://s3-media2.fl.yelpcdn.com/bphoto/GHKLWD...      False   \n",
       "6   https://s3-media3.fl.yelpcdn.com/bphoto/xXrvZR...      False   \n",
       "7   https://s3-media1.fl.yelpcdn.com/bphoto/wSBtAO...      False   \n",
       "8   https://s3-media1.fl.yelpcdn.com/bphoto/beQcJ7...      False   \n",
       "9   https://s3-media2.fl.yelpcdn.com/bphoto/BoK9xS...      False   \n",
       "10  https://s3-media2.fl.yelpcdn.com/bphoto/4wg9xr...      False   \n",
       "11  https://s3-media1.fl.yelpcdn.com/bphoto/STCZ-L...      False   \n",
       "12  https://s3-media1.fl.yelpcdn.com/bphoto/PNqbtr...      False   \n",
       "13  https://s3-media3.fl.yelpcdn.com/bphoto/Wayhvr...      False   \n",
       "14  https://s3-media3.fl.yelpcdn.com/bphoto/6v8GJd...      False   \n",
       "15  https://s3-media4.fl.yelpcdn.com/bphoto/MeeP1I...      False   \n",
       "16  https://s3-media1.fl.yelpcdn.com/bphoto/W3Mvx3...      False   \n",
       "17  https://s3-media4.fl.yelpcdn.com/bphoto/K0_u_-...      False   \n",
       "18  https://s3-media3.fl.yelpcdn.com/bphoto/iYUKp8...      False   \n",
       "19  https://s3-media2.fl.yelpcdn.com/bphoto/E63S8K...      False   \n",
       "\n",
       "                                                  url  review_count  \\\n",
       "0   https://www.yelp.com/biz/guerrero-maya-mexican...           244   \n",
       "1   https://www.yelp.com/biz/el-rodeo-south-portla...           252   \n",
       "2   https://www.yelp.com/biz/taco-trio-south-portl...           326   \n",
       "3   https://www.yelp.com/biz/casita-corazon-south-...            20   \n",
       "4   https://www.yelp.com/biz/taco-escobarr-portlan...           676   \n",
       "5   https://www.yelp.com/biz/tacos-la-poblanita-so...            12   \n",
       "6   https://www.yelp.com/biz/rio-bravo-tacos-and-t...            64   \n",
       "7   https://www.yelp.com/biz/jefe-juans-portland?a...            29   \n",
       "8   https://www.yelp.com/biz/coco-bar-and-grill-bi...            36   \n",
       "9   https://www.yelp.com/biz/bird-and-co-portland?...           184   \n",
       "10  https://www.yelp.com/biz/sal-de-la-tierra-port...            41   \n",
       "11  https://www.yelp.com/biz/lenora-portland?adjus...            39   \n",
       "12  https://www.yelp.com/biz/restaurante-el-corazo...           189   \n",
       "13  https://www.yelp.com/biz/tostones-cafe-cape-el...            22   \n",
       "14  https://www.yelp.com/biz/quiero-cafe-portland-...           103   \n",
       "15  https://www.yelp.com/biz/el-rayo-taqueria-scar...           228   \n",
       "16  https://www.yelp.com/biz/1800-mexican-restaura...             6   \n",
       "17  https://www.yelp.com/biz/tequileras-mexican-re...            21   \n",
       "18  https://www.yelp.com/biz/terlingua-portland?ad...           345   \n",
       "19  https://www.yelp.com/biz/taqueria-207-old-orch...           118   \n",
       "\n",
       "                                           categories  rating  \\\n",
       "0          [{'alias': 'mexican', 'title': 'Mexican'}]     4.0   \n",
       "1   [{'alias': 'mexican', 'title': 'Mexican'}, {'a...     4.0   \n",
       "2          [{'alias': 'mexican', 'title': 'Mexican'}]     4.5   \n",
       "3          [{'alias': 'mexican', 'title': 'Mexican'}]     5.0   \n",
       "4              [{'alias': 'tacos', 'title': 'Tacos'}]     4.0   \n",
       "5   [{'alias': 'foodtrucks', 'title': 'Food Trucks...     5.0   \n",
       "6          [{'alias': 'mexican', 'title': 'Mexican'}]     4.5   \n",
       "7          [{'alias': 'mexican', 'title': 'Mexican'}]     4.5   \n",
       "8              [{'alias': 'tacos', 'title': 'Tacos'}]     5.0   \n",
       "9              [{'alias': 'tacos', 'title': 'Tacos'}]     4.5   \n",
       "10  [{'alias': 'latin', 'title': 'Latin American'}...     4.5   \n",
       "11  [{'alias': 'mexican', 'title': 'Mexican'}, {'a...     4.0   \n",
       "12  [{'alias': 'bars', 'title': 'Bars'}, {'alias':...     4.0   \n",
       "13    [{'alias': 'latin', 'title': 'Latin American'}]     4.5   \n",
       "14  [{'alias': 'latin', 'title': 'Latin American'}...     4.5   \n",
       "15         [{'alias': 'mexican', 'title': 'Mexican'}]     3.5   \n",
       "16         [{'alias': 'mexican', 'title': 'Mexican'}]     3.5   \n",
       "17  [{'alias': 'mexican', 'title': 'Mexican'}, {'a...     3.5   \n",
       "18  [{'alias': 'bbq', 'title': 'Barbeque'}, {'alia...     4.5   \n",
       "19  [{'alias': 'newmexican', 'title': 'New Mexican...     4.5   \n",
       "\n",
       "                                          coordinates        transactions  \\\n",
       "0   {'latitude': 43.6335100034012, 'longitude': -7...  [delivery, pickup]   \n",
       "1       {'latitude': 43.6355, 'longitude': -70.32043}            [pickup]   \n",
       "2   {'latitude': 43.6399281, 'longitude': -70.2536...  [delivery, pickup]   \n",
       "3      {'latitude': 43.64756, 'longitude': -70.23171}                  []   \n",
       "4   {'latitude': 43.6553325, 'longitude': -70.2615...          [delivery]   \n",
       "5   {'latitude': 43.63305470962841, 'longitude': -...                  []   \n",
       "6   {'latitude': 43.67799685814813, 'longitude': -...  [delivery, pickup]   \n",
       "7   {'latitude': 43.6559654371511, 'longitude': -7...                  []   \n",
       "8   {'latitude': 43.49302895625947, 'longitude': -...          [delivery]   \n",
       "9      {'latitude': 43.67037, 'longitude': -70.28425}          [delivery]   \n",
       "10  {'latitude': 43.6545925, 'longitude': -70.2626...          [delivery]   \n",
       "11  {'latitude': 43.65576860774107, 'longitude': -...                  []   \n",
       "12   {'latitude': 43.652991, 'longitude': -70.267121}          [delivery]   \n",
       "13  {'latitude': 43.5938102202537, 'longitude': -7...                  []   \n",
       "14  {'latitude': 43.6541787486643, 'longitude': -7...          [delivery]   \n",
       "15  {'latitude': 43.5905859535598, 'longitude': -7...          [delivery]   \n",
       "16  {'latitude': 43.5953045, 'longitude': -70.3276...  [delivery, pickup]   \n",
       "17     {'latitude': 43.59604, 'longitude': -70.32716}  [delivery, pickup]   \n",
       "18  {'latitude': 43.664676267002065, 'longitude': ...          [delivery]   \n",
       "19  {'latitude': 43.5079510773822, 'longitude': -7...          [delivery]   \n",
       "\n",
       "   price                                           location         phone  \\\n",
       "0     $$  {'address1': '449 Westbrook St', 'address2': '...  +12077475965   \n",
       "1     $$  {'address1': '147 Western Ave', 'address2': ''...  +12077738851   \n",
       "2      $  {'address1': '60 Ocean St', 'address2': '', 'a...  +12077679055   \n",
       "3    NaN  {'address1': '158 Benjamin W Pickett St', 'add...                 \n",
       "4     $$  {'address1': '548 Congress St', 'address2': ''...  +12075419097   \n",
       "5    NaN  {'address1': '364 Maine Mall Rd', 'address2': ...  +12076180198   \n",
       "6     $$  {'address1': '11 Main St', 'address2': 'Ste 14...  +12078879494   \n",
       "7    NaN  {'address1': '29 Wharf St', 'address2': '', 'a...                 \n",
       "8    NaN  {'address1': '11 Adams St', 'address2': '', 'a...  +12075714543   \n",
       "9     $$  {'address1': '539 Deering Ave', 'address2': No...  +12077474056   \n",
       "10   NaN  {'address1': '581 Congress St', 'address2': No...  +12077611600   \n",
       "11   NaN  {'address1': '2 Portland Sq', 'address2': '', ...  +12075360423   \n",
       "12    $$  {'address1': '190 State St', 'address2': '', '...  +12075361354   \n",
       "13   NaN  {'address1': '327 Ocean House Rd', 'address2':...  +12077475168   \n",
       "14   NaN  {'address1': '3 Deering Ave', 'address2': '', ...  +12075367033   \n",
       "15    $$  {'address1': '245 US Route 1', 'address2': '',...  +12078838226   \n",
       "16   NaN  {'address1': '183 US-1', 'address2': None, 'ad...  +12073030007   \n",
       "17   NaN  {'address1': '183 US-1', 'address2': '', 'addr...  +12072198905   \n",
       "18    $$  {'address1': '40 Washington Ave', 'address2': ...                 \n",
       "19   NaN  {'address1': '2 Ocean Park Rd', 'address2': ''...  +12079378732   \n",
       "\n",
       "     display_phone      distance  \n",
       "0   (207) 747-5965   1759.965634  \n",
       "1   (207) 773-8851   2227.928614  \n",
       "2   (207) 767-9055   3123.708490  \n",
       "3                    5009.909691  \n",
       "4   (207) 541-9097   3322.406214  \n",
       "5   (207) 618-0198   3385.784339  \n",
       "6   (207) 887-9494   5657.270553  \n",
       "7                    3840.308035  \n",
       "8   (207) 571-4543  20598.616693  \n",
       "9   (207) 747-4056   3972.600633  \n",
       "10  (207) 761-1600   3203.221372  \n",
       "11  (207) 536-0423   3713.673648  \n",
       "12  (207) 536-1354   2804.480738  \n",
       "13  (207) 747-5168   6919.994368  \n",
       "14  (207) 536-7033   2650.450919  \n",
       "15  (207) 883-8226   6116.780913  \n",
       "16  (207) 303-0007   5271.115360  \n",
       "17  (207) 219-8905   5271.115360  \n",
       "18                   4605.664451  \n",
       "19  (207) 937-8732  17051.595062  "
      ]
     },
     "execution_count": 17,
     "metadata": {},
     "output_type": "execute_result"
    }
   ],
   "source": [
    "pd.DataFrame(results['businesses'])"
   ]
  },
  {
   "cell_type": "code",
   "execution_count": 18,
   "id": "84170f42-c5a1-4d33-b400-db071d370e7f",
   "metadata": {},
   "outputs": [
    {
     "data": {
      "text/plain": [
       "20"
      ]
     },
     "execution_count": 18,
     "metadata": {},
     "output_type": "execute_result"
    }
   ],
   "source": [
    "results_per_page = len(results['businesses'])\n",
    "results_per_page"
   ]
  },
  {
   "cell_type": "code",
   "execution_count": 19,
   "id": "7e6e71a6-9227-4a0a-8631-0d589dad406a",
   "metadata": {},
   "outputs": [
    {
     "data": {
      "text/plain": [
       "5.95"
      ]
     },
     "execution_count": 19,
     "metadata": {},
     "output_type": "execute_result"
    }
   ],
   "source": [
    "(results['total'])/results_per_page"
   ]
  },
  {
   "cell_type": "code",
   "execution_count": 20,
   "id": "9d91530d-9153-4982-a2b5-1b1f96fe4d1f",
   "metadata": {},
   "outputs": [
    {
     "data": {
      "text/plain": [
       "6"
      ]
     },
     "execution_count": 20,
     "metadata": {},
     "output_type": "execute_result"
    }
   ],
   "source": [
    "n_pages = math.ceil((results['total'])/results_per_page)\n",
    "n_pages"
   ]
  },
  {
   "cell_type": "code",
   "execution_count": 26,
   "id": "dd0398d2-2875-410b-850a-3551f0f1d3f1",
   "metadata": {},
   "outputs": [
    {
     "data": {
      "application/vnd.jupyter.widget-view+json": {
       "model_id": "3b048555caf247bb88010079bb9b0460",
       "version_major": 2,
       "version_minor": 0
      },
      "text/plain": [
       "  0%|          | 0/6 [00:00<?, ?it/s]"
      ]
     },
     "metadata": {},
     "output_type": "display_data"
    }
   ],
   "source": [
    "for i in tqdm_notebook( range(1,n_pages+1)):\n",
    "    try:\n",
    "        time.sleep(.2)\n",
    "\n",
    "        with open(JSON_FILE, 'r') as f:\n",
    "            previous_results = json.load(f)\n",
    "\n",
    "        n_results = len(previous_results)\n",
    "\n",
    "        results = yelp.search_query(location = location, term = term,\n",
    "                                    offset = n_results+1)\n",
    "\n",
    "        previous_results.extend(results['businesses'])\n",
    "\n",
    "        with open(JSON_FILE, 'w') as f:\n",
    "            json.dump(previous_results, f)\n",
    "\n",
    "# IF Error encountered\n",
    "    except Exception as e:\n",
    "        print('!ERROR!', e)"
   ]
  },
  {
   "cell_type": "markdown",
   "id": "059f01e0-61f0-417e-bfa8-6f9270fbee84",
   "metadata": {},
   "source": [
    "## Open Final JSON FILE"
   ]
  },
  {
   "cell_type": "code",
   "execution_count": 27,
   "id": "bf14d5f0-dbd1-41f9-9565-43faa76e3cee",
   "metadata": {},
   "outputs": [
    {
     "data": {
      "text/html": [
       "<div>\n",
       "<style scoped>\n",
       "    .dataframe tbody tr th:only-of-type {\n",
       "        vertical-align: middle;\n",
       "    }\n",
       "\n",
       "    .dataframe tbody tr th {\n",
       "        vertical-align: top;\n",
       "    }\n",
       "\n",
       "    .dataframe thead th {\n",
       "        text-align: right;\n",
       "    }\n",
       "</style>\n",
       "<table border=\"1\" class=\"dataframe\">\n",
       "  <thead>\n",
       "    <tr style=\"text-align: right;\">\n",
       "      <th></th>\n",
       "      <th>id</th>\n",
       "      <th>alias</th>\n",
       "      <th>name</th>\n",
       "      <th>image_url</th>\n",
       "      <th>is_closed</th>\n",
       "      <th>url</th>\n",
       "      <th>review_count</th>\n",
       "      <th>categories</th>\n",
       "      <th>rating</th>\n",
       "      <th>coordinates</th>\n",
       "      <th>transactions</th>\n",
       "      <th>price</th>\n",
       "      <th>location</th>\n",
       "      <th>phone</th>\n",
       "      <th>display_phone</th>\n",
       "      <th>distance</th>\n",
       "    </tr>\n",
       "  </thead>\n",
       "  <tbody>\n",
       "    <tr>\n",
       "      <th>0</th>\n",
       "      <td>CCBjleg5-fmdfQSrMoVpjQ</td>\n",
       "      <td>el-rodeo-south-portland</td>\n",
       "      <td>El Rodeo</td>\n",
       "      <td>https://s3-media2.fl.yelpcdn.com/bphoto/9tsTIV...</td>\n",
       "      <td>False</td>\n",
       "      <td>https://www.yelp.com/biz/el-rodeo-south-portla...</td>\n",
       "      <td>252</td>\n",
       "      <td>[{'alias': 'mexican', 'title': 'Mexican'}, {'a...</td>\n",
       "      <td>4.0</td>\n",
       "      <td>{'latitude': 43.6355, 'longitude': -70.32043}</td>\n",
       "      <td>[pickup]</td>\n",
       "      <td>$$</td>\n",
       "      <td>{'address1': '147 Western Ave', 'address2': ''...</td>\n",
       "      <td>+12077738851</td>\n",
       "      <td>(207) 773-8851</td>\n",
       "      <td>2227.928614</td>\n",
       "    </tr>\n",
       "    <tr>\n",
       "      <th>1</th>\n",
       "      <td>_At24cTKAQj8AYJ26yNysw</td>\n",
       "      <td>taco-trio-south-portland</td>\n",
       "      <td>Taco Trio</td>\n",
       "      <td>https://s3-media2.fl.yelpcdn.com/bphoto/m1u2T1...</td>\n",
       "      <td>False</td>\n",
       "      <td>https://www.yelp.com/biz/taco-trio-south-portl...</td>\n",
       "      <td>326</td>\n",
       "      <td>[{'alias': 'mexican', 'title': 'Mexican'}]</td>\n",
       "      <td>4.5</td>\n",
       "      <td>{'latitude': 43.6399281, 'longitude': -70.2536...</td>\n",
       "      <td>[delivery, pickup]</td>\n",
       "      <td>$</td>\n",
       "      <td>{'address1': '60 Ocean St', 'address2': '', 'a...</td>\n",
       "      <td>+12077679055</td>\n",
       "      <td>(207) 767-9055</td>\n",
       "      <td>3123.708490</td>\n",
       "    </tr>\n",
       "    <tr>\n",
       "      <th>2</th>\n",
       "      <td>9fT5ZGTb8YQ0dAYlRuW_9g</td>\n",
       "      <td>casita-corazon-south-portland</td>\n",
       "      <td>Casita Corazon</td>\n",
       "      <td>https://s3-media3.fl.yelpcdn.com/bphoto/A26WIP...</td>\n",
       "      <td>False</td>\n",
       "      <td>https://www.yelp.com/biz/casita-corazon-south-...</td>\n",
       "      <td>20</td>\n",
       "      <td>[{'alias': 'mexican', 'title': 'Mexican'}]</td>\n",
       "      <td>5.0</td>\n",
       "      <td>{'latitude': 43.64756, 'longitude': -70.23171}</td>\n",
       "      <td>[]</td>\n",
       "      <td>NaN</td>\n",
       "      <td>{'address1': '158 Benjamin W Pickett St', 'add...</td>\n",
       "      <td></td>\n",
       "      <td></td>\n",
       "      <td>5009.909691</td>\n",
       "    </tr>\n",
       "    <tr>\n",
       "      <th>3</th>\n",
       "      <td>ZXAgknN0Vazfjb6mifcHdA</td>\n",
       "      <td>taco-escobarr-portland</td>\n",
       "      <td>Taco Escobarr</td>\n",
       "      <td>https://s3-media3.fl.yelpcdn.com/bphoto/lmU7mo...</td>\n",
       "      <td>False</td>\n",
       "      <td>https://www.yelp.com/biz/taco-escobarr-portlan...</td>\n",
       "      <td>676</td>\n",
       "      <td>[{'alias': 'tacos', 'title': 'Tacos'}]</td>\n",
       "      <td>4.0</td>\n",
       "      <td>{'latitude': 43.6553325, 'longitude': -70.2615...</td>\n",
       "      <td>[delivery]</td>\n",
       "      <td>$$</td>\n",
       "      <td>{'address1': '548 Congress St', 'address2': ''...</td>\n",
       "      <td>+12075419097</td>\n",
       "      <td>(207) 541-9097</td>\n",
       "      <td>3322.406214</td>\n",
       "    </tr>\n",
       "    <tr>\n",
       "      <th>4</th>\n",
       "      <td>sxEyHlFw3E6MqEQYMdEfnA</td>\n",
       "      <td>tacos-la-poblanita-south-portland-2</td>\n",
       "      <td>Tacos La Poblanita</td>\n",
       "      <td>https://s3-media2.fl.yelpcdn.com/bphoto/GHKLWD...</td>\n",
       "      <td>False</td>\n",
       "      <td>https://www.yelp.com/biz/tacos-la-poblanita-so...</td>\n",
       "      <td>12</td>\n",
       "      <td>[{'alias': 'foodtrucks', 'title': 'Food Trucks...</td>\n",
       "      <td>5.0</td>\n",
       "      <td>{'latitude': 43.63305470962841, 'longitude': -...</td>\n",
       "      <td>[]</td>\n",
       "      <td>NaN</td>\n",
       "      <td>{'address1': '364 Maine Mall Rd', 'address2': ...</td>\n",
       "      <td>+12076180198</td>\n",
       "      <td>(207) 618-0198</td>\n",
       "      <td>3385.784339</td>\n",
       "    </tr>\n",
       "  </tbody>\n",
       "</table>\n",
       "</div>"
      ],
      "text/plain": [
       "                       id                                alias  \\\n",
       "0  CCBjleg5-fmdfQSrMoVpjQ              el-rodeo-south-portland   \n",
       "1  _At24cTKAQj8AYJ26yNysw             taco-trio-south-portland   \n",
       "2  9fT5ZGTb8YQ0dAYlRuW_9g        casita-corazon-south-portland   \n",
       "3  ZXAgknN0Vazfjb6mifcHdA               taco-escobarr-portland   \n",
       "4  sxEyHlFw3E6MqEQYMdEfnA  tacos-la-poblanita-south-portland-2   \n",
       "\n",
       "                 name                                          image_url  \\\n",
       "0            El Rodeo  https://s3-media2.fl.yelpcdn.com/bphoto/9tsTIV...   \n",
       "1           Taco Trio  https://s3-media2.fl.yelpcdn.com/bphoto/m1u2T1...   \n",
       "2      Casita Corazon  https://s3-media3.fl.yelpcdn.com/bphoto/A26WIP...   \n",
       "3       Taco Escobarr  https://s3-media3.fl.yelpcdn.com/bphoto/lmU7mo...   \n",
       "4  Tacos La Poblanita  https://s3-media2.fl.yelpcdn.com/bphoto/GHKLWD...   \n",
       "\n",
       "   is_closed                                                url  review_count  \\\n",
       "0      False  https://www.yelp.com/biz/el-rodeo-south-portla...           252   \n",
       "1      False  https://www.yelp.com/biz/taco-trio-south-portl...           326   \n",
       "2      False  https://www.yelp.com/biz/casita-corazon-south-...            20   \n",
       "3      False  https://www.yelp.com/biz/taco-escobarr-portlan...           676   \n",
       "4      False  https://www.yelp.com/biz/tacos-la-poblanita-so...            12   \n",
       "\n",
       "                                          categories  rating  \\\n",
       "0  [{'alias': 'mexican', 'title': 'Mexican'}, {'a...     4.0   \n",
       "1         [{'alias': 'mexican', 'title': 'Mexican'}]     4.5   \n",
       "2         [{'alias': 'mexican', 'title': 'Mexican'}]     5.0   \n",
       "3             [{'alias': 'tacos', 'title': 'Tacos'}]     4.0   \n",
       "4  [{'alias': 'foodtrucks', 'title': 'Food Trucks...     5.0   \n",
       "\n",
       "                                         coordinates        transactions  \\\n",
       "0      {'latitude': 43.6355, 'longitude': -70.32043}            [pickup]   \n",
       "1  {'latitude': 43.6399281, 'longitude': -70.2536...  [delivery, pickup]   \n",
       "2     {'latitude': 43.64756, 'longitude': -70.23171}                  []   \n",
       "3  {'latitude': 43.6553325, 'longitude': -70.2615...          [delivery]   \n",
       "4  {'latitude': 43.63305470962841, 'longitude': -...                  []   \n",
       "\n",
       "  price                                           location         phone  \\\n",
       "0    $$  {'address1': '147 Western Ave', 'address2': ''...  +12077738851   \n",
       "1     $  {'address1': '60 Ocean St', 'address2': '', 'a...  +12077679055   \n",
       "2   NaN  {'address1': '158 Benjamin W Pickett St', 'add...                 \n",
       "3    $$  {'address1': '548 Congress St', 'address2': ''...  +12075419097   \n",
       "4   NaN  {'address1': '364 Maine Mall Rd', 'address2': ...  +12076180198   \n",
       "\n",
       "    display_phone     distance  \n",
       "0  (207) 773-8851  2227.928614  \n",
       "1  (207) 767-9055  3123.708490  \n",
       "2                  5009.909691  \n",
       "3  (207) 541-9097  3322.406214  \n",
       "4  (207) 618-0198  3385.784339  "
      ]
     },
     "execution_count": 27,
     "metadata": {},
     "output_type": "execute_result"
    }
   ],
   "source": [
    "df = pd.read_json(JSON_FILE)\n",
    "df.head()"
   ]
  },
  {
   "cell_type": "code",
   "execution_count": 28,
   "id": "5066f1cc-34ab-42c7-89db-451399793d58",
   "metadata": {},
   "outputs": [
    {
     "name": "stdout",
     "output_type": "stream",
     "text": [
      "<class 'pandas.core.frame.DataFrame'>\n",
      "RangeIndex: 118 entries, 0 to 117\n",
      "Data columns (total 16 columns):\n",
      " #   Column         Non-Null Count  Dtype  \n",
      "---  ------         --------------  -----  \n",
      " 0   id             118 non-null    object \n",
      " 1   alias          118 non-null    object \n",
      " 2   name           118 non-null    object \n",
      " 3   image_url      118 non-null    object \n",
      " 4   is_closed      118 non-null    bool   \n",
      " 5   url            118 non-null    object \n",
      " 6   review_count   118 non-null    int64  \n",
      " 7   categories     118 non-null    object \n",
      " 8   rating         118 non-null    float64\n",
      " 9   coordinates    118 non-null    object \n",
      " 10  transactions   118 non-null    object \n",
      " 11  price          77 non-null     object \n",
      " 12  location       118 non-null    object \n",
      " 13  phone          118 non-null    object \n",
      " 14  display_phone  118 non-null    object \n",
      " 15  distance       118 non-null    float64\n",
      "dtypes: bool(1), float64(2), int64(1), object(12)\n",
      "memory usage: 14.1+ KB\n"
     ]
    }
   ],
   "source": [
    "df.info()"
   ]
  },
  {
   "cell_type": "code",
   "execution_count": 29,
   "id": "c748bb3e-bfe5-41de-a055-0a29ed47a6ad",
   "metadata": {},
   "outputs": [
    {
     "data": {
      "text/plain": [
       "'Data/South Portland-mexican.csv.gz'"
      ]
     },
     "execution_count": 29,
     "metadata": {},
     "output_type": "execute_result"
    }
   ],
   "source": [
    "# Convert from json to csv.gz file\n",
    "csv_file = JSON_FILE.replace('.json', '.csv.gz')\n",
    "csv_file"
   ]
  },
  {
   "cell_type": "code",
   "execution_count": 30,
   "id": "29ba7ab2-9a55-4332-a087-f0949dbcb99c",
   "metadata": {},
   "outputs": [],
   "source": [
    "# compress csv\n",
    "df.to_csv(csv_file, compression='gzip', index=False)"
   ]
  }
 ],
 "metadata": {
  "kernelspec": {
   "display_name": "Python (dojo-env)",
   "language": "python",
   "name": "dojo-env"
  },
  "language_info": {
   "codemirror_mode": {
    "name": "ipython",
    "version": 3
   },
   "file_extension": ".py",
   "mimetype": "text/x-python",
   "name": "python",
   "nbconvert_exporter": "python",
   "pygments_lexer": "ipython3",
   "version": "3.10.10"
  },
  "widgets": {
   "application/vnd.jupyter.widget-state+json": {
    "state": {
     "06e1fe98ea834cbd8444defe06f2a6cc": {
      "model_module": "@jupyter-widgets/controls",
      "model_module_version": "2.0.0",
      "model_name": "FloatProgressModel",
      "state": {
       "bar_style": "success",
       "layout": "IPY_MODEL_fb9fc2fdd1334148b1a6a23266cc6c59",
       "max": 6,
       "style": "IPY_MODEL_83afe924947548cb84f08e0fb84be931",
       "value": 6
      }
     },
     "0ac8df39478047368eb23339f91b25be": {
      "model_module": "@jupyter-widgets/base",
      "model_module_version": "2.0.0",
      "model_name": "LayoutModel",
      "state": {}
     },
     "0da9c19b3e8149e496d4b31b43249101": {
      "model_module": "@jupyter-widgets/controls",
      "model_module_version": "2.0.0",
      "model_name": "HBoxModel",
      "state": {
       "children": [
        "IPY_MODEL_66f66ce2ff1149bf82f26bd687c59c35",
        "IPY_MODEL_2dbd58f13e1f4e6aa95849f616e968d6",
        "IPY_MODEL_47cb546ec81249ebaa177b1fb17810fc"
       ],
       "layout": "IPY_MODEL_5806e953895a4035a2be986a67a9d123"
      }
     },
     "124be74fe6a54538801e94e11e513636": {
      "model_module": "@jupyter-widgets/controls",
      "model_module_version": "2.0.0",
      "model_name": "HTMLModel",
      "state": {
       "layout": "IPY_MODEL_a724db2f9e6346a3b3abe53b4ef6d8f5",
       "style": "IPY_MODEL_b93c12c28871402b8957cf7c63a5d0ef",
       "value": " 6/6 [00:01&lt;00:00,  4.79it/s]"
      }
     },
     "1290fa6a5a7a48cfa6959d2c32096ad9": {
      "model_module": "@jupyter-widgets/controls",
      "model_module_version": "2.0.0",
      "model_name": "HTMLStyleModel",
      "state": {
       "description_width": "",
       "font_size": null,
       "text_color": null
      }
     },
     "1cf76771716c49a3984f36f6d30189a4": {
      "model_module": "@jupyter-widgets/controls",
      "model_module_version": "2.0.0",
      "model_name": "ProgressStyleModel",
      "state": {
       "description_width": ""
      }
     },
     "1eef1f52471b4205bbc0b651ddcb49a6": {
      "model_module": "@jupyter-widgets/base",
      "model_module_version": "2.0.0",
      "model_name": "LayoutModel",
      "state": {}
     },
     "29f58106bce44d9b88fc2677fbf98cd4": {
      "model_module": "@jupyter-widgets/base",
      "model_module_version": "2.0.0",
      "model_name": "LayoutModel",
      "state": {}
     },
     "2c341781b95f47f38b02890f6bf4d24d": {
      "model_module": "@jupyter-widgets/controls",
      "model_module_version": "2.0.0",
      "model_name": "HTMLStyleModel",
      "state": {
       "description_width": "",
       "font_size": null,
       "text_color": null
      }
     },
     "2dbd58f13e1f4e6aa95849f616e968d6": {
      "model_module": "@jupyter-widgets/controls",
      "model_module_version": "2.0.0",
      "model_name": "FloatProgressModel",
      "state": {
       "bar_style": "success",
       "layout": "IPY_MODEL_e1ef49be13ff42d8bedc71a9641fc184",
       "max": 6,
       "style": "IPY_MODEL_b17343ff33ff4c27b1e82e26160db3df",
       "value": 6
      }
     },
     "2e2ca85c28354e7d8fd8954f369271d5": {
      "model_module": "@jupyter-widgets/base",
      "model_module_version": "2.0.0",
      "model_name": "LayoutModel",
      "state": {}
     },
     "348274af565a43068534dd2e7289d3d9": {
      "model_module": "@jupyter-widgets/controls",
      "model_module_version": "2.0.0",
      "model_name": "HTMLStyleModel",
      "state": {
       "description_width": "",
       "font_size": null,
       "text_color": null
      }
     },
     "3b048555caf247bb88010079bb9b0460": {
      "model_module": "@jupyter-widgets/controls",
      "model_module_version": "2.0.0",
      "model_name": "HBoxModel",
      "state": {
       "children": [
        "IPY_MODEL_88dfef86b17f4db89b8c7f1b78d3c239",
        "IPY_MODEL_fe682bc0a3d3424d84714d1ac740c15e",
        "IPY_MODEL_5c52f94e07ff42a3b6e98b2a5f898040"
       ],
       "layout": "IPY_MODEL_2e2ca85c28354e7d8fd8954f369271d5"
      }
     },
     "42b8029835e14975bb446e063ed1f7a4": {
      "model_module": "@jupyter-widgets/controls",
      "model_module_version": "2.0.0",
      "model_name": "HTMLStyleModel",
      "state": {
       "description_width": "",
       "font_size": null,
       "text_color": null
      }
     },
     "43c93b151110447db478f4b99e8919d8": {
      "model_module": "@jupyter-widgets/base",
      "model_module_version": "2.0.0",
      "model_name": "LayoutModel",
      "state": {}
     },
     "47cb546ec81249ebaa177b1fb17810fc": {
      "model_module": "@jupyter-widgets/controls",
      "model_module_version": "2.0.0",
      "model_name": "HTMLModel",
      "state": {
       "layout": "IPY_MODEL_6bfac47c546848998fa8cdbe1594a5f6",
       "style": "IPY_MODEL_846ad4db29e446779b7ab12f70c8d955",
       "value": " 6/6 [00:01&lt;00:00,  4.76it/s]"
      }
     },
     "50c3bc560ace4f8fa4ad34faf8e93daf": {
      "model_module": "@jupyter-widgets/controls",
      "model_module_version": "2.0.0",
      "model_name": "ProgressStyleModel",
      "state": {
       "description_width": ""
      }
     },
     "5806e953895a4035a2be986a67a9d123": {
      "model_module": "@jupyter-widgets/base",
      "model_module_version": "2.0.0",
      "model_name": "LayoutModel",
      "state": {}
     },
     "5a16811827374e95baaa504f3744db83": {
      "model_module": "@jupyter-widgets/controls",
      "model_module_version": "2.0.0",
      "model_name": "HBoxModel",
      "state": {
       "children": [
        "IPY_MODEL_cc0d89e1800f40258f6158f45eeae79c",
        "IPY_MODEL_fb1113bf1f8e4d5e9457d1afef8bbabe",
        "IPY_MODEL_fbc57caa4dbe4ed0bba42bec155c2e13"
       ],
       "layout": "IPY_MODEL_43c93b151110447db478f4b99e8919d8"
      }
     },
     "5c52f94e07ff42a3b6e98b2a5f898040": {
      "model_module": "@jupyter-widgets/controls",
      "model_module_version": "2.0.0",
      "model_name": "HTMLModel",
      "state": {
       "layout": "IPY_MODEL_29f58106bce44d9b88fc2677fbf98cd4",
       "style": "IPY_MODEL_b25ddf09162c4be389de1de08abebf0c",
       "value": " 6/6 [00:04&lt;00:00,  1.28it/s]"
      }
     },
     "5cdb30ab574540808d88d5e1935a9058": {
      "model_module": "@jupyter-widgets/base",
      "model_module_version": "2.0.0",
      "model_name": "LayoutModel",
      "state": {}
     },
     "63a62975e81d4d27a18b068be73c13fd": {
      "model_module": "@jupyter-widgets/controls",
      "model_module_version": "2.0.0",
      "model_name": "FloatProgressModel",
      "state": {
       "bar_style": "success",
       "layout": "IPY_MODEL_ae1a9fb0b10241babe363b9df3eadc30",
       "max": 6,
       "style": "IPY_MODEL_50c3bc560ace4f8fa4ad34faf8e93daf",
       "value": 6
      }
     },
     "66f66ce2ff1149bf82f26bd687c59c35": {
      "model_module": "@jupyter-widgets/controls",
      "model_module_version": "2.0.0",
      "model_name": "HTMLModel",
      "state": {
       "layout": "IPY_MODEL_c1e91a64631446ee948f7566022b85eb",
       "style": "IPY_MODEL_2c341781b95f47f38b02890f6bf4d24d",
       "value": "100%"
      }
     },
     "6745477590bd44c88a3c0bd87314603d": {
      "model_module": "@jupyter-widgets/base",
      "model_module_version": "2.0.0",
      "model_name": "LayoutModel",
      "state": {}
     },
     "6bfac47c546848998fa8cdbe1594a5f6": {
      "model_module": "@jupyter-widgets/base",
      "model_module_version": "2.0.0",
      "model_name": "LayoutModel",
      "state": {}
     },
     "6e2e857fc64548f988205e5760018f30": {
      "model_module": "@jupyter-widgets/controls",
      "model_module_version": "2.0.0",
      "model_name": "HBoxModel",
      "state": {
       "children": [
        "IPY_MODEL_91437f70a2144a52922f930122093b4a",
        "IPY_MODEL_06e1fe98ea834cbd8444defe06f2a6cc",
        "IPY_MODEL_e6bd876469394f7db9c3059a54fdbb04"
       ],
       "layout": "IPY_MODEL_fe7ec7c51f5841fcb8efa5f4ba5b4a6b"
      }
     },
     "6f121935942449d8b8390102ce0c0b8f": {
      "model_module": "@jupyter-widgets/controls",
      "model_module_version": "2.0.0",
      "model_name": "HBoxModel",
      "state": {
       "children": [
        "IPY_MODEL_d9ea1a2ff56248398121d3e093d0585c",
        "IPY_MODEL_63a62975e81d4d27a18b068be73c13fd",
        "IPY_MODEL_124be74fe6a54538801e94e11e513636"
       ],
       "layout": "IPY_MODEL_ab38fafbcba14f37aae9ecf0d4719c00"
      }
     },
     "83afe924947548cb84f08e0fb84be931": {
      "model_module": "@jupyter-widgets/controls",
      "model_module_version": "2.0.0",
      "model_name": "ProgressStyleModel",
      "state": {
       "description_width": ""
      }
     },
     "846ad4db29e446779b7ab12f70c8d955": {
      "model_module": "@jupyter-widgets/controls",
      "model_module_version": "2.0.0",
      "model_name": "HTMLStyleModel",
      "state": {
       "description_width": "",
       "font_size": null,
       "text_color": null
      }
     },
     "87d301084e83455895c8e167dccb3b24": {
      "model_module": "@jupyter-widgets/base",
      "model_module_version": "2.0.0",
      "model_name": "LayoutModel",
      "state": {}
     },
     "88dfef86b17f4db89b8c7f1b78d3c239": {
      "model_module": "@jupyter-widgets/controls",
      "model_module_version": "2.0.0",
      "model_name": "HTMLModel",
      "state": {
       "layout": "IPY_MODEL_9dc397d45fca43929cd72f4ebd96a485",
       "style": "IPY_MODEL_1290fa6a5a7a48cfa6959d2c32096ad9",
       "value": "100%"
      }
     },
     "91437f70a2144a52922f930122093b4a": {
      "model_module": "@jupyter-widgets/controls",
      "model_module_version": "2.0.0",
      "model_name": "HTMLModel",
      "state": {
       "layout": "IPY_MODEL_5cdb30ab574540808d88d5e1935a9058",
       "style": "IPY_MODEL_a72af4f0ea724c24a914430f35428f99",
       "value": "100%"
      }
     },
     "9dc397d45fca43929cd72f4ebd96a485": {
      "model_module": "@jupyter-widgets/base",
      "model_module_version": "2.0.0",
      "model_name": "LayoutModel",
      "state": {}
     },
     "a724db2f9e6346a3b3abe53b4ef6d8f5": {
      "model_module": "@jupyter-widgets/base",
      "model_module_version": "2.0.0",
      "model_name": "LayoutModel",
      "state": {}
     },
     "a72af4f0ea724c24a914430f35428f99": {
      "model_module": "@jupyter-widgets/controls",
      "model_module_version": "2.0.0",
      "model_name": "HTMLStyleModel",
      "state": {
       "description_width": "",
       "font_size": null,
       "text_color": null
      }
     },
     "ab38fafbcba14f37aae9ecf0d4719c00": {
      "model_module": "@jupyter-widgets/base",
      "model_module_version": "2.0.0",
      "model_name": "LayoutModel",
      "state": {}
     },
     "ae1a9fb0b10241babe363b9df3eadc30": {
      "model_module": "@jupyter-widgets/base",
      "model_module_version": "2.0.0",
      "model_name": "LayoutModel",
      "state": {}
     },
     "b0a2d2cfd6a34f4596962f0d14c50160": {
      "model_module": "@jupyter-widgets/controls",
      "model_module_version": "2.0.0",
      "model_name": "HTMLStyleModel",
      "state": {
       "description_width": "",
       "font_size": null,
       "text_color": null
      }
     },
     "b114cbf8ee40484a9617fc144d35134c": {
      "model_module": "@jupyter-widgets/base",
      "model_module_version": "2.0.0",
      "model_name": "LayoutModel",
      "state": {}
     },
     "b17343ff33ff4c27b1e82e26160db3df": {
      "model_module": "@jupyter-widgets/controls",
      "model_module_version": "2.0.0",
      "model_name": "ProgressStyleModel",
      "state": {
       "description_width": ""
      }
     },
     "b25ddf09162c4be389de1de08abebf0c": {
      "model_module": "@jupyter-widgets/controls",
      "model_module_version": "2.0.0",
      "model_name": "HTMLStyleModel",
      "state": {
       "description_width": "",
       "font_size": null,
       "text_color": null
      }
     },
     "b93c12c28871402b8957cf7c63a5d0ef": {
      "model_module": "@jupyter-widgets/controls",
      "model_module_version": "2.0.0",
      "model_name": "HTMLStyleModel",
      "state": {
       "description_width": "",
       "font_size": null,
       "text_color": null
      }
     },
     "c1e91a64631446ee948f7566022b85eb": {
      "model_module": "@jupyter-widgets/base",
      "model_module_version": "2.0.0",
      "model_name": "LayoutModel",
      "state": {}
     },
     "c45b1d880f9440019b0e50ef466a8386": {
      "model_module": "@jupyter-widgets/base",
      "model_module_version": "2.0.0",
      "model_name": "LayoutModel",
      "state": {}
     },
     "c8bdd4d48feb48669da7191476cff63a": {
      "model_module": "@jupyter-widgets/controls",
      "model_module_version": "2.0.0",
      "model_name": "HTMLStyleModel",
      "state": {
       "description_width": "",
       "font_size": null,
       "text_color": null
      }
     },
     "cc0d89e1800f40258f6158f45eeae79c": {
      "model_module": "@jupyter-widgets/controls",
      "model_module_version": "2.0.0",
      "model_name": "HTMLModel",
      "state": {
       "layout": "IPY_MODEL_c45b1d880f9440019b0e50ef466a8386",
       "style": "IPY_MODEL_c8bdd4d48feb48669da7191476cff63a",
       "value": "100%"
      }
     },
     "d9ea1a2ff56248398121d3e093d0585c": {
      "model_module": "@jupyter-widgets/controls",
      "model_module_version": "2.0.0",
      "model_name": "HTMLModel",
      "state": {
       "layout": "IPY_MODEL_b114cbf8ee40484a9617fc144d35134c",
       "style": "IPY_MODEL_b0a2d2cfd6a34f4596962f0d14c50160",
       "value": "100%"
      }
     },
     "e1ef49be13ff42d8bedc71a9641fc184": {
      "model_module": "@jupyter-widgets/base",
      "model_module_version": "2.0.0",
      "model_name": "LayoutModel",
      "state": {}
     },
     "e6bd876469394f7db9c3059a54fdbb04": {
      "model_module": "@jupyter-widgets/controls",
      "model_module_version": "2.0.0",
      "model_name": "HTMLModel",
      "state": {
       "layout": "IPY_MODEL_87d301084e83455895c8e167dccb3b24",
       "style": "IPY_MODEL_42b8029835e14975bb446e063ed1f7a4",
       "value": " 6/6 [00:01&lt;00:00,  4.75it/s]"
      }
     },
     "e77bdd3e1c2b4e7b83aeb3794b93270e": {
      "model_module": "@jupyter-widgets/controls",
      "model_module_version": "2.0.0",
      "model_name": "ProgressStyleModel",
      "state": {
       "description_width": ""
      }
     },
     "fb1113bf1f8e4d5e9457d1afef8bbabe": {
      "model_module": "@jupyter-widgets/controls",
      "model_module_version": "2.0.0",
      "model_name": "FloatProgressModel",
      "state": {
       "bar_style": "success",
       "layout": "IPY_MODEL_1eef1f52471b4205bbc0b651ddcb49a6",
       "max": 6,
       "style": "IPY_MODEL_1cf76771716c49a3984f36f6d30189a4",
       "value": 6
      }
     },
     "fb9fc2fdd1334148b1a6a23266cc6c59": {
      "model_module": "@jupyter-widgets/base",
      "model_module_version": "2.0.0",
      "model_name": "LayoutModel",
      "state": {}
     },
     "fbc57caa4dbe4ed0bba42bec155c2e13": {
      "model_module": "@jupyter-widgets/controls",
      "model_module_version": "2.0.0",
      "model_name": "HTMLModel",
      "state": {
       "layout": "IPY_MODEL_0ac8df39478047368eb23339f91b25be",
       "style": "IPY_MODEL_348274af565a43068534dd2e7289d3d9",
       "value": " 6/6 [00:01&lt;00:00,  4.77it/s]"
      }
     },
     "fe682bc0a3d3424d84714d1ac740c15e": {
      "model_module": "@jupyter-widgets/controls",
      "model_module_version": "2.0.0",
      "model_name": "FloatProgressModel",
      "state": {
       "bar_style": "success",
       "layout": "IPY_MODEL_6745477590bd44c88a3c0bd87314603d",
       "max": 6,
       "style": "IPY_MODEL_e77bdd3e1c2b4e7b83aeb3794b93270e",
       "value": 6
      }
     },
     "fe7ec7c51f5841fcb8efa5f4ba5b4a6b": {
      "model_module": "@jupyter-widgets/base",
      "model_module_version": "2.0.0",
      "model_name": "LayoutModel",
      "state": {}
     }
    },
    "version_major": 2,
    "version_minor": 0
   }
  }
 },
 "nbformat": 4,
 "nbformat_minor": 5
}
